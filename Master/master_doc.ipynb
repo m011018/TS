{
 "cells": [
  {
   "attachments": {},
   "cell_type": "markdown",
   "metadata": {},
   "source": [
    "## POINTS 1-3)"
   ]
  },
  {
   "cell_type": "code",
   "execution_count": 9,
   "metadata": {},
   "outputs": [],
   "source": [
    "# Libraries du hase\n",
    "#change1\n",
    "import os\n",
    "import sqlite3\n",
    "import fnmatch\n",
    "import math\n",
    "import numpy as np\n",
    "import pandas as pd\n",
    "import matplotlib.pyplot as plt\n",
    "from sklearn import linear_model\n",
    "from sklearn.model_selection import train_test_split\n",
    "import scipy.stats as stats\n",
    "from pstats import Stats\n",
    "#from pstats import StatsProfile\n",
    "import statsmodels.api as sm\n",
    "import seaborn as sns\n",
    "\n",
    "import pylab as py\n",
    "\n",
    "# Settings for seaborn\n",
    "#sns.set_theme(style=\"ticks\", palette=\"pastel\")\n",
    "\n",
    "# Ignore warnings\n",
    "import warnings\n",
    "warnings.filterwarnings(\"ignore\")"
   ]
  },
  {
   "cell_type": "code",
   "execution_count": 10,
   "metadata": {},
   "outputs": [
    {
     "data": {
      "text/html": [
       "<div>\n",
       "<style scoped>\n",
       "    .dataframe tbody tr th:only-of-type {\n",
       "        vertical-align: middle;\n",
       "    }\n",
       "\n",
       "    .dataframe tbody tr th {\n",
       "        vertical-align: top;\n",
       "    }\n",
       "\n",
       "    .dataframe thead th {\n",
       "        text-align: right;\n",
       "    }\n",
       "</style>\n",
       "<table border=\"1\" class=\"dataframe\">\n",
       "  <thead>\n",
       "    <tr style=\"text-align: right;\">\n",
       "      <th></th>\n",
       "      <th>Datum</th>\n",
       "      <th>brand</th>\n",
       "      <th>addresse</th>\n",
       "      <th>diesel</th>\n",
       "      <th>bleifrei</th>\n",
       "      <th>lat</th>\n",
       "      <th>lon</th>\n",
       "    </tr>\n",
       "  </thead>\n",
       "  <tbody>\n",
       "    <tr>\n",
       "      <th>0</th>\n",
       "      <td>21.09.2020</td>\n",
       "      <td>Alpina Tankstelle</td>\n",
       "      <td>Dorfstrasse 42, 7563 Samnaun Dorf</td>\n",
       "      <td>1.120</td>\n",
       "      <td>1.140</td>\n",
       "      <td>46.943104</td>\n",
       "      <td>10.358743</td>\n",
       "    </tr>\n",
       "    <tr>\n",
       "      <th>1</th>\n",
       "      <td>21.09.2020</td>\n",
       "      <td>Alpina Tankstelle</td>\n",
       "      <td>Dorfstrasse 42, 7563 Samnaun Dorf</td>\n",
       "      <td>1.120</td>\n",
       "      <td>1.140</td>\n",
       "      <td>46.943104</td>\n",
       "      <td>10.358743</td>\n",
       "    </tr>\n",
       "    <tr>\n",
       "      <th>2</th>\n",
       "      <td>21.09.2020</td>\n",
       "      <td>Alpina Tankstelle</td>\n",
       "      <td>Dorfstrasse 42, 7563 Samnaun Dorf</td>\n",
       "      <td>1.120</td>\n",
       "      <td>1.140</td>\n",
       "      <td>46.943104</td>\n",
       "      <td>10.358743</td>\n",
       "    </tr>\n",
       "    <tr>\n",
       "      <th>3</th>\n",
       "      <td>21.09.2020</td>\n",
       "      <td>Alpina Tankstelle</td>\n",
       "      <td>Dorfstrasse 42, 7563 Samnaun Dorf</td>\n",
       "      <td>1.120</td>\n",
       "      <td>1.140</td>\n",
       "      <td>46.943104</td>\n",
       "      <td>10.358743</td>\n",
       "    </tr>\n",
       "    <tr>\n",
       "      <th>4</th>\n",
       "      <td>21.09.2020</td>\n",
       "      <td>Alpina Tankstelle</td>\n",
       "      <td>Dorfstrasse 42, 7563 Samnaun Dorf</td>\n",
       "      <td>1.120</td>\n",
       "      <td>1.140</td>\n",
       "      <td>46.943104</td>\n",
       "      <td>10.358743</td>\n",
       "    </tr>\n",
       "    <tr>\n",
       "      <th>...</th>\n",
       "      <td>...</td>\n",
       "      <td>...</td>\n",
       "      <td>...</td>\n",
       "      <td>...</td>\n",
       "      <td>...</td>\n",
       "      <td>...</td>\n",
       "      <td>...</td>\n",
       "    </tr>\n",
       "    <tr>\n",
       "      <th>2408</th>\n",
       "      <td>04.05.2016</td>\n",
       "      <td>Auto Bellinzona Nord Sagl</td>\n",
       "      <td>Via S. Gottardo 57B, 6500 Bellinzona</td>\n",
       "      <td>1.320</td>\n",
       "      <td>1.330</td>\n",
       "      <td>46.203907</td>\n",
       "      <td>9.034014</td>\n",
       "    </tr>\n",
       "    <tr>\n",
       "      <th>2409</th>\n",
       "      <td>02.02.2016</td>\n",
       "      <td>Reisch AG</td>\n",
       "      <td>Hauptstr. 24, 8573 Siegershausen</td>\n",
       "      <td>1.320</td>\n",
       "      <td>1.270</td>\n",
       "      <td>47.611435</td>\n",
       "      <td>9.169731</td>\n",
       "    </tr>\n",
       "    <tr>\n",
       "      <th>2410</th>\n",
       "      <td>04.05.2016</td>\n",
       "      <td>Auto Lugano</td>\n",
       "      <td>Via Cantonale, 6983 Magliaso</td>\n",
       "      <td>1.319</td>\n",
       "      <td>1.279</td>\n",
       "      <td>45.985931</td>\n",
       "      <td>8.891774</td>\n",
       "    </tr>\n",
       "    <tr>\n",
       "      <th>2411</th>\n",
       "      <td>22.12.2020</td>\n",
       "      <td>Ruedi RÃ¼ssel</td>\n",
       "      <td>Luzernstr. 60, 4553 Subingen</td>\n",
       "      <td>1.310</td>\n",
       "      <td>1.260</td>\n",
       "      <td>47.193531</td>\n",
       "      <td>7.621964</td>\n",
       "    </tr>\n",
       "    <tr>\n",
       "      <th>2412</th>\n",
       "      <td>22.12.2020</td>\n",
       "      <td>Dorfgarage Willi AG</td>\n",
       "      <td>Rheintalstrasse 59, 5325 Leibstadt</td>\n",
       "      <td>1.300</td>\n",
       "      <td>1.250</td>\n",
       "      <td>47.591080</td>\n",
       "      <td>8.175756</td>\n",
       "    </tr>\n",
       "  </tbody>\n",
       "</table>\n",
       "<p>2413 rows × 7 columns</p>\n",
       "</div>"
      ],
      "text/plain": [
       "           Datum                      brand  \\\n",
       "0     21.09.2020          Alpina Tankstelle   \n",
       "1     21.09.2020          Alpina Tankstelle   \n",
       "2     21.09.2020          Alpina Tankstelle   \n",
       "3     21.09.2020          Alpina Tankstelle   \n",
       "4     21.09.2020          Alpina Tankstelle   \n",
       "...          ...                        ...   \n",
       "2408  04.05.2016  Auto Bellinzona Nord Sagl   \n",
       "2409  02.02.2016                  Reisch AG   \n",
       "2410  04.05.2016                Auto Lugano   \n",
       "2411  22.12.2020              Ruedi RÃ¼ssel   \n",
       "2412  22.12.2020        Dorfgarage Willi AG   \n",
       "\n",
       "                                   addresse  diesel  bleifrei        lat  \\\n",
       "0         Dorfstrasse 42, 7563 Samnaun Dorf   1.120     1.140  46.943104   \n",
       "1         Dorfstrasse 42, 7563 Samnaun Dorf   1.120     1.140  46.943104   \n",
       "2         Dorfstrasse 42, 7563 Samnaun Dorf   1.120     1.140  46.943104   \n",
       "3         Dorfstrasse 42, 7563 Samnaun Dorf   1.120     1.140  46.943104   \n",
       "4         Dorfstrasse 42, 7563 Samnaun Dorf   1.120     1.140  46.943104   \n",
       "...                                     ...     ...       ...        ...   \n",
       "2408   Via S. Gottardo 57B, 6500 Bellinzona   1.320     1.330  46.203907   \n",
       "2409       Hauptstr. 24, 8573 Siegershausen   1.320     1.270  47.611435   \n",
       "2410           Via Cantonale, 6983 Magliaso   1.319     1.279  45.985931   \n",
       "2411           Luzernstr. 60, 4553 Subingen   1.310     1.260  47.193531   \n",
       "2412     Rheintalstrasse 59, 5325 Leibstadt   1.300     1.250  47.591080   \n",
       "\n",
       "            lon  \n",
       "0     10.358743  \n",
       "1     10.358743  \n",
       "2     10.358743  \n",
       "3     10.358743  \n",
       "4     10.358743  \n",
       "...         ...  \n",
       "2408   9.034014  \n",
       "2409   9.169731  \n",
       "2410   8.891774  \n",
       "2411   7.621964  \n",
       "2412   8.175756  \n",
       "\n",
       "[2413 rows x 7 columns]"
      ]
     },
     "execution_count": 10,
     "metadata": {},
     "output_type": "execute_result"
    }
   ],
   "source": [
    "df = pd.read_csv('combined_loc.csv',\n",
    "                 sep=',',\n",
    "                 encoding='latin-1')\n",
    "\n",
    "df\n"
   ]
  },
  {
   "attachments": {},
   "cell_type": "markdown",
   "metadata": {},
   "source": [
    "## 4) EDA Part"
   ]
  },
  {
   "cell_type": "code",
   "execution_count": 11,
   "metadata": {},
   "outputs": [
    {
     "data": {
      "text/html": [
       "<div>\n",
       "<style scoped>\n",
       "    .dataframe tbody tr th:only-of-type {\n",
       "        vertical-align: middle;\n",
       "    }\n",
       "\n",
       "    .dataframe tbody tr th {\n",
       "        vertical-align: top;\n",
       "    }\n",
       "\n",
       "    .dataframe thead th {\n",
       "        text-align: right;\n",
       "    }\n",
       "</style>\n",
       "<table border=\"1\" class=\"dataframe\">\n",
       "  <thead>\n",
       "    <tr style=\"text-align: right;\">\n",
       "      <th></th>\n",
       "      <th>diesel</th>\n",
       "      <th>bleifrei</th>\n",
       "      <th>lat</th>\n",
       "      <th>lon</th>\n",
       "    </tr>\n",
       "  </thead>\n",
       "  <tbody>\n",
       "    <tr>\n",
       "      <th>count</th>\n",
       "      <td>2413.000000</td>\n",
       "      <td>2413.000000</td>\n",
       "      <td>1794.000000</td>\n",
       "      <td>1794.000000</td>\n",
       "    </tr>\n",
       "    <tr>\n",
       "      <th>mean</th>\n",
       "      <td>1.819246</td>\n",
       "      <td>1.678922</td>\n",
       "      <td>47.078806</td>\n",
       "      <td>8.365420</td>\n",
       "    </tr>\n",
       "    <tr>\n",
       "      <th>std</th>\n",
       "      <td>0.288732</td>\n",
       "      <td>0.221809</td>\n",
       "      <td>0.451144</td>\n",
       "      <td>0.810042</td>\n",
       "    </tr>\n",
       "    <tr>\n",
       "      <th>min</th>\n",
       "      <td>1.120000</td>\n",
       "      <td>1.140000</td>\n",
       "      <td>45.833527</td>\n",
       "      <td>5.971094</td>\n",
       "    </tr>\n",
       "    <tr>\n",
       "      <th>25%</th>\n",
       "      <td>1.570000</td>\n",
       "      <td>1.500000</td>\n",
       "      <td>46.896875</td>\n",
       "      <td>7.721382</td>\n",
       "    </tr>\n",
       "    <tr>\n",
       "      <th>50%</th>\n",
       "      <td>1.770000</td>\n",
       "      <td>1.670000</td>\n",
       "      <td>47.198078</td>\n",
       "      <td>8.462198</td>\n",
       "    </tr>\n",
       "    <tr>\n",
       "      <th>75%</th>\n",
       "      <td>2.090000</td>\n",
       "      <td>1.830000</td>\n",
       "      <td>47.417451</td>\n",
       "      <td>8.941109</td>\n",
       "    </tr>\n",
       "    <tr>\n",
       "      <th>max</th>\n",
       "      <td>2.395000</td>\n",
       "      <td>2.230000</td>\n",
       "      <td>47.792210</td>\n",
       "      <td>10.455905</td>\n",
       "    </tr>\n",
       "  </tbody>\n",
       "</table>\n",
       "</div>"
      ],
      "text/plain": [
       "            diesel     bleifrei          lat          lon\n",
       "count  2413.000000  2413.000000  1794.000000  1794.000000\n",
       "mean      1.819246     1.678922    47.078806     8.365420\n",
       "std       0.288732     0.221809     0.451144     0.810042\n",
       "min       1.120000     1.140000    45.833527     5.971094\n",
       "25%       1.570000     1.500000    46.896875     7.721382\n",
       "50%       1.770000     1.670000    47.198078     8.462198\n",
       "75%       2.090000     1.830000    47.417451     8.941109\n",
       "max       2.395000     2.230000    47.792210    10.455905"
      ]
     },
     "execution_count": 11,
     "metadata": {},
     "output_type": "execute_result"
    }
   ],
   "source": [
    "df.describe()"
   ]
  },
  {
   "cell_type": "markdown",
   "metadata": {},
   "source": [
    "### Statistical measures (min, max, std, mean, median, count) for selected variables"
   ]
  },
  {
   "cell_type": "code",
   "execution_count": 12,
   "metadata": {},
   "outputs": [
    {
     "name": "stdout",
     "output_type": "stream",
     "text": [
      "Preis: Count: 2413 Min: 1.1 Max: 2.4 Mean: 1.8 Median: 1.8 Std: 0.3\n",
      "Preis2: Count: 2413 Min: 1.1 Max: 2.2 Mean: 1.7 Median: 1.7 Std: 0.2\n",
      "Datum: Count: 1794 Min: 45.8 Max: 47.8 Mean: 47.1 Median: 47.2 Std: 0.5\n"
     ]
    }
   ],
   "source": [
    "#asdf Preis\n",
    "print('Preis:',\n",
    "      'Count:', round(df.diesel.count(), 1),\n",
    "      'Min:', round(df.diesel.min(), 1),\n",
    "      'Max:', round(df.diesel.max(), 1),\n",
    "      'Mean:', round(df.diesel.mean(), 1),\n",
    "      'Median:', round(df.diesel.median(), 1),\n",
    "      'Std:', round(df.diesel.std(), 1))\n",
    "\n",
    "# Preis2\n",
    "print('Preis2:',\n",
    "      'Count:', round(df.bleifrei.count(), 1),\n",
    "      'Min:', round(df.bleifrei.min(), 1),\n",
    "      'Max:', round(df.bleifrei.max(), 1),\n",
    "      'Mean:', round(df.bleifrei.mean(), 1),\n",
    "      'Median:', round(df.bleifrei.median(), 1),\n",
    "      'Std:', round(df.bleifrei.std(), 1))\n",
    "\n",
    "# Datum\n",
    "print('Datum:',\n",
    "      'Count:', round(df.lat.count(), 1),\n",
    "      'Min:', round(df.lat.min(), 1),\n",
    "      'Max:', round(df.lat.max(), 1),\n",
    "      'Mean:', round(df.lat.mean(), 1),\n",
    "      'Median:', round(df.lat.median(), 1),\n",
    "      'Std:', round(df.lat.std(), 1))"
   ]
  },
  {
   "cell_type": "code",
   "execution_count": 13,
   "metadata": {},
   "outputs": [
    {
     "data": {
      "text/plain": [
       "diesel     -1.135745\n",
       "bleifrei   -0.571844\n",
       "lat         0.353816\n",
       "lon        -0.367534\n",
       "dtype: float64"
      ]
     },
     "execution_count": 13,
     "metadata": {},
     "output_type": "execute_result"
    }
   ],
   "source": [
    "# Quantiles\n",
    "df.quantile(q=[0.05, 0.10, 0.25, 0.50, 0.75, 0.90, 0.95]).round(2)\n",
    "\n",
    "# Skewness\n",
    "df.skew()\n",
    "\n",
    "#Kurtosis\n",
    "df.kurtosis()"
   ]
  },
  {
   "cell_type": "markdown",
   "metadata": {},
   "source": [
    "### Multivariate non-graphical exploratory data analysis (EDA)"
   ]
  },
  {
   "cell_type": "code",
   "execution_count": 15,
   "metadata": {},
   "outputs": [
    {
     "data": {
      "text/html": [
       "<div>\n",
       "<style scoped>\n",
       "    .dataframe tbody tr th:only-of-type {\n",
       "        vertical-align: middle;\n",
       "    }\n",
       "\n",
       "    .dataframe tbody tr th {\n",
       "        vertical-align: top;\n",
       "    }\n",
       "\n",
       "    .dataframe thead th {\n",
       "        text-align: right;\n",
       "    }\n",
       "</style>\n",
       "<table border=\"1\" class=\"dataframe\">\n",
       "  <thead>\n",
       "    <tr style=\"text-align: right;\">\n",
       "      <th>bleifrei</th>\n",
       "      <th>1.140</th>\n",
       "      <th>1.250</th>\n",
       "      <th>1.260</th>\n",
       "      <th>1.270</th>\n",
       "      <th>1.275</th>\n",
       "      <th>1.279</th>\n",
       "      <th>1.280</th>\n",
       "      <th>1.290</th>\n",
       "      <th>1.295</th>\n",
       "      <th>1.300</th>\n",
       "      <th>...</th>\n",
       "      <th>2.179</th>\n",
       "      <th>2.180</th>\n",
       "      <th>2.190</th>\n",
       "      <th>2.195</th>\n",
       "      <th>2.200</th>\n",
       "      <th>2.210</th>\n",
       "      <th>2.219</th>\n",
       "      <th>2.220</th>\n",
       "      <th>2.229</th>\n",
       "      <th>2.230</th>\n",
       "    </tr>\n",
       "    <tr>\n",
       "      <th>diesel</th>\n",
       "      <th></th>\n",
       "      <th></th>\n",
       "      <th></th>\n",
       "      <th></th>\n",
       "      <th></th>\n",
       "      <th></th>\n",
       "      <th></th>\n",
       "      <th></th>\n",
       "      <th></th>\n",
       "      <th></th>\n",
       "      <th></th>\n",
       "      <th></th>\n",
       "      <th></th>\n",
       "      <th></th>\n",
       "      <th></th>\n",
       "      <th></th>\n",
       "      <th></th>\n",
       "      <th></th>\n",
       "      <th></th>\n",
       "      <th></th>\n",
       "      <th></th>\n",
       "    </tr>\n",
       "  </thead>\n",
       "  <tbody>\n",
       "    <tr>\n",
       "      <th>1.120</th>\n",
       "      <td>16</td>\n",
       "      <td>0</td>\n",
       "      <td>0</td>\n",
       "      <td>0</td>\n",
       "      <td>0</td>\n",
       "      <td>0</td>\n",
       "      <td>0</td>\n",
       "      <td>0</td>\n",
       "      <td>0</td>\n",
       "      <td>0</td>\n",
       "      <td>...</td>\n",
       "      <td>0</td>\n",
       "      <td>0</td>\n",
       "      <td>0</td>\n",
       "      <td>0</td>\n",
       "      <td>0</td>\n",
       "      <td>0</td>\n",
       "      <td>0</td>\n",
       "      <td>0</td>\n",
       "      <td>0</td>\n",
       "      <td>0</td>\n",
       "    </tr>\n",
       "    <tr>\n",
       "      <th>1.300</th>\n",
       "      <td>0</td>\n",
       "      <td>1</td>\n",
       "      <td>0</td>\n",
       "      <td>0</td>\n",
       "      <td>0</td>\n",
       "      <td>0</td>\n",
       "      <td>0</td>\n",
       "      <td>0</td>\n",
       "      <td>0</td>\n",
       "      <td>0</td>\n",
       "      <td>...</td>\n",
       "      <td>0</td>\n",
       "      <td>0</td>\n",
       "      <td>0</td>\n",
       "      <td>0</td>\n",
       "      <td>0</td>\n",
       "      <td>0</td>\n",
       "      <td>0</td>\n",
       "      <td>0</td>\n",
       "      <td>0</td>\n",
       "      <td>0</td>\n",
       "    </tr>\n",
       "    <tr>\n",
       "      <th>1.310</th>\n",
       "      <td>0</td>\n",
       "      <td>0</td>\n",
       "      <td>1</td>\n",
       "      <td>0</td>\n",
       "      <td>0</td>\n",
       "      <td>0</td>\n",
       "      <td>0</td>\n",
       "      <td>0</td>\n",
       "      <td>0</td>\n",
       "      <td>0</td>\n",
       "      <td>...</td>\n",
       "      <td>0</td>\n",
       "      <td>0</td>\n",
       "      <td>0</td>\n",
       "      <td>0</td>\n",
       "      <td>0</td>\n",
       "      <td>0</td>\n",
       "      <td>0</td>\n",
       "      <td>0</td>\n",
       "      <td>0</td>\n",
       "      <td>0</td>\n",
       "    </tr>\n",
       "    <tr>\n",
       "      <th>1.319</th>\n",
       "      <td>0</td>\n",
       "      <td>0</td>\n",
       "      <td>0</td>\n",
       "      <td>0</td>\n",
       "      <td>0</td>\n",
       "      <td>1</td>\n",
       "      <td>0</td>\n",
       "      <td>0</td>\n",
       "      <td>0</td>\n",
       "      <td>0</td>\n",
       "      <td>...</td>\n",
       "      <td>0</td>\n",
       "      <td>0</td>\n",
       "      <td>0</td>\n",
       "      <td>0</td>\n",
       "      <td>0</td>\n",
       "      <td>0</td>\n",
       "      <td>0</td>\n",
       "      <td>0</td>\n",
       "      <td>0</td>\n",
       "      <td>0</td>\n",
       "    </tr>\n",
       "    <tr>\n",
       "      <th>1.320</th>\n",
       "      <td>0</td>\n",
       "      <td>0</td>\n",
       "      <td>1</td>\n",
       "      <td>1</td>\n",
       "      <td>0</td>\n",
       "      <td>0</td>\n",
       "      <td>0</td>\n",
       "      <td>0</td>\n",
       "      <td>0</td>\n",
       "      <td>0</td>\n",
       "      <td>...</td>\n",
       "      <td>0</td>\n",
       "      <td>0</td>\n",
       "      <td>0</td>\n",
       "      <td>0</td>\n",
       "      <td>0</td>\n",
       "      <td>0</td>\n",
       "      <td>0</td>\n",
       "      <td>0</td>\n",
       "      <td>0</td>\n",
       "      <td>0</td>\n",
       "    </tr>\n",
       "    <tr>\n",
       "      <th>...</th>\n",
       "      <td>...</td>\n",
       "      <td>...</td>\n",
       "      <td>...</td>\n",
       "      <td>...</td>\n",
       "      <td>...</td>\n",
       "      <td>...</td>\n",
       "      <td>...</td>\n",
       "      <td>...</td>\n",
       "      <td>...</td>\n",
       "      <td>...</td>\n",
       "      <td>...</td>\n",
       "      <td>...</td>\n",
       "      <td>...</td>\n",
       "      <td>...</td>\n",
       "      <td>...</td>\n",
       "      <td>...</td>\n",
       "      <td>...</td>\n",
       "      <td>...</td>\n",
       "      <td>...</td>\n",
       "      <td>...</td>\n",
       "      <td>...</td>\n",
       "    </tr>\n",
       "    <tr>\n",
       "      <th>2.360</th>\n",
       "      <td>0</td>\n",
       "      <td>0</td>\n",
       "      <td>0</td>\n",
       "      <td>0</td>\n",
       "      <td>0</td>\n",
       "      <td>0</td>\n",
       "      <td>0</td>\n",
       "      <td>0</td>\n",
       "      <td>0</td>\n",
       "      <td>0</td>\n",
       "      <td>...</td>\n",
       "      <td>0</td>\n",
       "      <td>0</td>\n",
       "      <td>1</td>\n",
       "      <td>0</td>\n",
       "      <td>0</td>\n",
       "      <td>0</td>\n",
       "      <td>0</td>\n",
       "      <td>0</td>\n",
       "      <td>0</td>\n",
       "      <td>1</td>\n",
       "    </tr>\n",
       "    <tr>\n",
       "      <th>2.369</th>\n",
       "      <td>0</td>\n",
       "      <td>0</td>\n",
       "      <td>0</td>\n",
       "      <td>0</td>\n",
       "      <td>0</td>\n",
       "      <td>0</td>\n",
       "      <td>0</td>\n",
       "      <td>0</td>\n",
       "      <td>0</td>\n",
       "      <td>0</td>\n",
       "      <td>...</td>\n",
       "      <td>0</td>\n",
       "      <td>0</td>\n",
       "      <td>0</td>\n",
       "      <td>0</td>\n",
       "      <td>0</td>\n",
       "      <td>0</td>\n",
       "      <td>0</td>\n",
       "      <td>0</td>\n",
       "      <td>0</td>\n",
       "      <td>0</td>\n",
       "    </tr>\n",
       "    <tr>\n",
       "      <th>2.370</th>\n",
       "      <td>0</td>\n",
       "      <td>0</td>\n",
       "      <td>0</td>\n",
       "      <td>0</td>\n",
       "      <td>0</td>\n",
       "      <td>0</td>\n",
       "      <td>0</td>\n",
       "      <td>0</td>\n",
       "      <td>0</td>\n",
       "      <td>0</td>\n",
       "      <td>...</td>\n",
       "      <td>0</td>\n",
       "      <td>0</td>\n",
       "      <td>0</td>\n",
       "      <td>0</td>\n",
       "      <td>0</td>\n",
       "      <td>0</td>\n",
       "      <td>0</td>\n",
       "      <td>1</td>\n",
       "      <td>0</td>\n",
       "      <td>1</td>\n",
       "    </tr>\n",
       "    <tr>\n",
       "      <th>2.380</th>\n",
       "      <td>0</td>\n",
       "      <td>0</td>\n",
       "      <td>0</td>\n",
       "      <td>0</td>\n",
       "      <td>0</td>\n",
       "      <td>0</td>\n",
       "      <td>0</td>\n",
       "      <td>0</td>\n",
       "      <td>0</td>\n",
       "      <td>0</td>\n",
       "      <td>...</td>\n",
       "      <td>0</td>\n",
       "      <td>0</td>\n",
       "      <td>0</td>\n",
       "      <td>0</td>\n",
       "      <td>1</td>\n",
       "      <td>0</td>\n",
       "      <td>0</td>\n",
       "      <td>0</td>\n",
       "      <td>0</td>\n",
       "      <td>1</td>\n",
       "    </tr>\n",
       "    <tr>\n",
       "      <th>2.395</th>\n",
       "      <td>0</td>\n",
       "      <td>0</td>\n",
       "      <td>0</td>\n",
       "      <td>0</td>\n",
       "      <td>0</td>\n",
       "      <td>0</td>\n",
       "      <td>0</td>\n",
       "      <td>0</td>\n",
       "      <td>0</td>\n",
       "      <td>0</td>\n",
       "      <td>...</td>\n",
       "      <td>0</td>\n",
       "      <td>0</td>\n",
       "      <td>0</td>\n",
       "      <td>0</td>\n",
       "      <td>0</td>\n",
       "      <td>0</td>\n",
       "      <td>0</td>\n",
       "      <td>0</td>\n",
       "      <td>0</td>\n",
       "      <td>0</td>\n",
       "    </tr>\n",
       "  </tbody>\n",
       "</table>\n",
       "<p>221 rows × 211 columns</p>\n",
       "</div>"
      ],
      "text/plain": [
       "bleifrei  1.140  1.250  1.260  1.270  1.275  1.279  1.280  1.290  1.295  \\\n",
       "diesel                                                                    \n",
       "1.120        16      0      0      0      0      0      0      0      0   \n",
       "1.300         0      1      0      0      0      0      0      0      0   \n",
       "1.310         0      0      1      0      0      0      0      0      0   \n",
       "1.319         0      0      0      0      0      1      0      0      0   \n",
       "1.320         0      0      1      1      0      0      0      0      0   \n",
       "...         ...    ...    ...    ...    ...    ...    ...    ...    ...   \n",
       "2.360         0      0      0      0      0      0      0      0      0   \n",
       "2.369         0      0      0      0      0      0      0      0      0   \n",
       "2.370         0      0      0      0      0      0      0      0      0   \n",
       "2.380         0      0      0      0      0      0      0      0      0   \n",
       "2.395         0      0      0      0      0      0      0      0      0   \n",
       "\n",
       "bleifrei  1.300  ...  2.179  2.180  2.190  2.195  2.200  2.210  2.219  2.220  \\\n",
       "diesel           ...                                                           \n",
       "1.120         0  ...      0      0      0      0      0      0      0      0   \n",
       "1.300         0  ...      0      0      0      0      0      0      0      0   \n",
       "1.310         0  ...      0      0      0      0      0      0      0      0   \n",
       "1.319         0  ...      0      0      0      0      0      0      0      0   \n",
       "1.320         0  ...      0      0      0      0      0      0      0      0   \n",
       "...         ...  ...    ...    ...    ...    ...    ...    ...    ...    ...   \n",
       "2.360         0  ...      0      0      1      0      0      0      0      0   \n",
       "2.369         0  ...      0      0      0      0      0      0      0      0   \n",
       "2.370         0  ...      0      0      0      0      0      0      0      1   \n",
       "2.380         0  ...      0      0      0      0      1      0      0      0   \n",
       "2.395         0  ...      0      0      0      0      0      0      0      0   \n",
       "\n",
       "bleifrei  2.229  2.230  \n",
       "diesel                  \n",
       "1.120         0      0  \n",
       "1.300         0      0  \n",
       "1.310         0      0  \n",
       "1.319         0      0  \n",
       "1.320         0      0  \n",
       "...         ...    ...  \n",
       "2.360         0      1  \n",
       "2.369         0      0  \n",
       "2.370         0      1  \n",
       "2.380         0      1  \n",
       "2.395         0      0  \n",
       "\n",
       "[221 rows x 211 columns]"
      ]
     },
     "execution_count": 15,
     "metadata": {},
     "output_type": "execute_result"
    }
   ],
   "source": [
    "#Cross- tabulation\n",
    "pd.crosstab(df['lat'], df['lon'])"
   ]
  },
  {
   "cell_type": "code",
   "execution_count": 16,
   "metadata": {},
   "outputs": [
    {
     "ename": "ValueError",
     "evalue": "Grouper for 'bleifrei' not 1-dimensional",
     "output_type": "error",
     "traceback": [
      "\u001b[1;31m---------------------------------------------------------------------------\u001b[0m",
      "\u001b[1;31mValueError\u001b[0m                                Traceback (most recent call last)",
      "Cell \u001b[1;32mIn [16], line 2\u001b[0m\n\u001b[0;32m      1\u001b[0m \u001b[39m#Pivot table\u001b[39;00m\n\u001b[1;32m----> 2\u001b[0m pd\u001b[39m.\u001b[39;49mpivot_table(df[[\u001b[39m'\u001b[39;49m\u001b[39mbleifrei\u001b[39;49m\u001b[39m'\u001b[39;49m, \u001b[39m'\u001b[39;49m\u001b[39mdiesel\u001b[39;49m\u001b[39m'\u001b[39;49m, \u001b[39m'\u001b[39;49m\u001b[39mbleifrei\u001b[39;49m\u001b[39m'\u001b[39;49m, \u001b[39m'\u001b[39;49m\u001b[39mdiesel\u001b[39;49m\u001b[39m'\u001b[39;49m]],\n\u001b[0;32m      3\u001b[0m                index\u001b[39m=\u001b[39;49m[\u001b[39m'\u001b[39;49m\u001b[39mbleifrei\u001b[39;49m\u001b[39m'\u001b[39;49m],\n\u001b[0;32m      4\u001b[0m                values\u001b[39m=\u001b[39;49m[\u001b[39m'\u001b[39;49m\u001b[39mbleifrei\u001b[39;49m\u001b[39m'\u001b[39;49m, \u001b[39m'\u001b[39;49m\u001b[39mdiesel\u001b[39;49m\u001b[39m'\u001b[39;49m, \u001b[39m'\u001b[39;49m\u001b[39mbleifrei\u001b[39;49m\u001b[39m'\u001b[39;49m],\n\u001b[0;32m      5\u001b[0m                aggfunc\u001b[39m=\u001b[39;49mnp\u001b[39m.\u001b[39;49mmean)\n",
      "File \u001b[1;32mc:\\Users\\mateo\\AppData\\Local\\Programs\\Python\\Python39\\lib\\site-packages\\pandas\\core\\reshape\\pivot.py:96\u001b[0m, in \u001b[0;36mpivot_table\u001b[1;34m(data, values, index, columns, aggfunc, fill_value, margins, dropna, margins_name, observed, sort)\u001b[0m\n\u001b[0;32m     93\u001b[0m     table \u001b[39m=\u001b[39m concat(pieces, keys\u001b[39m=\u001b[39mkeys, axis\u001b[39m=\u001b[39m\u001b[39m1\u001b[39m)\n\u001b[0;32m     94\u001b[0m     \u001b[39mreturn\u001b[39;00m table\u001b[39m.\u001b[39m__finalize__(data, method\u001b[39m=\u001b[39m\u001b[39m\"\u001b[39m\u001b[39mpivot_table\u001b[39m\u001b[39m\"\u001b[39m)\n\u001b[1;32m---> 96\u001b[0m table \u001b[39m=\u001b[39m __internal_pivot_table(\n\u001b[0;32m     97\u001b[0m     data,\n\u001b[0;32m     98\u001b[0m     values,\n\u001b[0;32m     99\u001b[0m     index,\n\u001b[0;32m    100\u001b[0m     columns,\n\u001b[0;32m    101\u001b[0m     aggfunc,\n\u001b[0;32m    102\u001b[0m     fill_value,\n\u001b[0;32m    103\u001b[0m     margins,\n\u001b[0;32m    104\u001b[0m     dropna,\n\u001b[0;32m    105\u001b[0m     margins_name,\n\u001b[0;32m    106\u001b[0m     observed,\n\u001b[0;32m    107\u001b[0m     sort,\n\u001b[0;32m    108\u001b[0m )\n\u001b[0;32m    109\u001b[0m \u001b[39mreturn\u001b[39;00m table\u001b[39m.\u001b[39m__finalize__(data, method\u001b[39m=\u001b[39m\u001b[39m\"\u001b[39m\u001b[39mpivot_table\u001b[39m\u001b[39m\"\u001b[39m)\n",
      "File \u001b[1;32mc:\\Users\\mateo\\AppData\\Local\\Programs\\Python\\Python39\\lib\\site-packages\\pandas\\core\\reshape\\pivot.py:165\u001b[0m, in \u001b[0;36m__internal_pivot_table\u001b[1;34m(data, values, index, columns, aggfunc, fill_value, margins, dropna, margins_name, observed, sort)\u001b[0m\n\u001b[0;32m    162\u001b[0m             \u001b[39mpass\u001b[39;00m\n\u001b[0;32m    163\u001b[0m     values \u001b[39m=\u001b[39m \u001b[39mlist\u001b[39m(values)\n\u001b[1;32m--> 165\u001b[0m grouped \u001b[39m=\u001b[39m data\u001b[39m.\u001b[39;49mgroupby(keys, observed\u001b[39m=\u001b[39;49mobserved, sort\u001b[39m=\u001b[39;49msort)\n\u001b[0;32m    166\u001b[0m agged \u001b[39m=\u001b[39m grouped\u001b[39m.\u001b[39magg(aggfunc)\n\u001b[0;32m    167\u001b[0m \u001b[39mif\u001b[39;00m dropna \u001b[39mand\u001b[39;00m \u001b[39misinstance\u001b[39m(agged, ABCDataFrame) \u001b[39mand\u001b[39;00m \u001b[39mlen\u001b[39m(agged\u001b[39m.\u001b[39mcolumns):\n",
      "File \u001b[1;32mc:\\Users\\mateo\\AppData\\Local\\Programs\\Python\\Python39\\lib\\site-packages\\pandas\\core\\frame.py:8392\u001b[0m, in \u001b[0;36mDataFrame.groupby\u001b[1;34m(self, by, axis, level, as_index, sort, group_keys, squeeze, observed, dropna)\u001b[0m\n\u001b[0;32m   8389\u001b[0m     \u001b[39mraise\u001b[39;00m \u001b[39mTypeError\u001b[39;00m(\u001b[39m\"\u001b[39m\u001b[39mYou have to supply one of \u001b[39m\u001b[39m'\u001b[39m\u001b[39mby\u001b[39m\u001b[39m'\u001b[39m\u001b[39m and \u001b[39m\u001b[39m'\u001b[39m\u001b[39mlevel\u001b[39m\u001b[39m'\u001b[39m\u001b[39m\"\u001b[39m)\n\u001b[0;32m   8390\u001b[0m axis \u001b[39m=\u001b[39m \u001b[39mself\u001b[39m\u001b[39m.\u001b[39m_get_axis_number(axis)\n\u001b[1;32m-> 8392\u001b[0m \u001b[39mreturn\u001b[39;00m DataFrameGroupBy(\n\u001b[0;32m   8393\u001b[0m     obj\u001b[39m=\u001b[39;49m\u001b[39mself\u001b[39;49m,\n\u001b[0;32m   8394\u001b[0m     keys\u001b[39m=\u001b[39;49mby,\n\u001b[0;32m   8395\u001b[0m     axis\u001b[39m=\u001b[39;49maxis,\n\u001b[0;32m   8396\u001b[0m     level\u001b[39m=\u001b[39;49mlevel,\n\u001b[0;32m   8397\u001b[0m     as_index\u001b[39m=\u001b[39;49mas_index,\n\u001b[0;32m   8398\u001b[0m     sort\u001b[39m=\u001b[39;49msort,\n\u001b[0;32m   8399\u001b[0m     group_keys\u001b[39m=\u001b[39;49mgroup_keys,\n\u001b[0;32m   8400\u001b[0m     squeeze\u001b[39m=\u001b[39;49msqueeze,\n\u001b[0;32m   8401\u001b[0m     observed\u001b[39m=\u001b[39;49mobserved,\n\u001b[0;32m   8402\u001b[0m     dropna\u001b[39m=\u001b[39;49mdropna,\n\u001b[0;32m   8403\u001b[0m )\n",
      "File \u001b[1;32mc:\\Users\\mateo\\AppData\\Local\\Programs\\Python\\Python39\\lib\\site-packages\\pandas\\core\\groupby\\groupby.py:959\u001b[0m, in \u001b[0;36mGroupBy.__init__\u001b[1;34m(self, obj, keys, axis, level, grouper, exclusions, selection, as_index, sort, group_keys, squeeze, observed, mutated, dropna)\u001b[0m\n\u001b[0;32m    956\u001b[0m \u001b[39mif\u001b[39;00m grouper \u001b[39mis\u001b[39;00m \u001b[39mNone\u001b[39;00m:\n\u001b[0;32m    957\u001b[0m     \u001b[39mfrom\u001b[39;00m \u001b[39mpandas\u001b[39;00m\u001b[39m.\u001b[39;00m\u001b[39mcore\u001b[39;00m\u001b[39m.\u001b[39;00m\u001b[39mgroupby\u001b[39;00m\u001b[39m.\u001b[39;00m\u001b[39mgrouper\u001b[39;00m \u001b[39mimport\u001b[39;00m get_grouper\n\u001b[1;32m--> 959\u001b[0m     grouper, exclusions, obj \u001b[39m=\u001b[39m get_grouper(\n\u001b[0;32m    960\u001b[0m         obj,\n\u001b[0;32m    961\u001b[0m         keys,\n\u001b[0;32m    962\u001b[0m         axis\u001b[39m=\u001b[39;49maxis,\n\u001b[0;32m    963\u001b[0m         level\u001b[39m=\u001b[39;49mlevel,\n\u001b[0;32m    964\u001b[0m         sort\u001b[39m=\u001b[39;49msort,\n\u001b[0;32m    965\u001b[0m         observed\u001b[39m=\u001b[39;49mobserved,\n\u001b[0;32m    966\u001b[0m         mutated\u001b[39m=\u001b[39;49m\u001b[39mself\u001b[39;49m\u001b[39m.\u001b[39;49mmutated,\n\u001b[0;32m    967\u001b[0m         dropna\u001b[39m=\u001b[39;49m\u001b[39mself\u001b[39;49m\u001b[39m.\u001b[39;49mdropna,\n\u001b[0;32m    968\u001b[0m     )\n\u001b[0;32m    970\u001b[0m \u001b[39mself\u001b[39m\u001b[39m.\u001b[39mobj \u001b[39m=\u001b[39m obj\n\u001b[0;32m    971\u001b[0m \u001b[39mself\u001b[39m\u001b[39m.\u001b[39maxis \u001b[39m=\u001b[39m obj\u001b[39m.\u001b[39m_get_axis_number(axis)\n",
      "File \u001b[1;32mc:\\Users\\mateo\\AppData\\Local\\Programs\\Python\\Python39\\lib\\site-packages\\pandas\\core\\groupby\\grouper.py:884\u001b[0m, in \u001b[0;36mget_grouper\u001b[1;34m(obj, key, axis, level, sort, observed, mutated, validate, dropna)\u001b[0m\n\u001b[0;32m    880\u001b[0m     in_axis, name, gpr \u001b[39m=\u001b[39m \u001b[39mTrue\u001b[39;00m, gpr, obj[gpr]\n\u001b[0;32m    881\u001b[0m     \u001b[39mif\u001b[39;00m gpr\u001b[39m.\u001b[39mndim \u001b[39m!=\u001b[39m \u001b[39m1\u001b[39m:\n\u001b[0;32m    882\u001b[0m         \u001b[39m# non-unique columns; raise here to get the name in the\u001b[39;00m\n\u001b[0;32m    883\u001b[0m         \u001b[39m# exception message\u001b[39;00m\n\u001b[1;32m--> 884\u001b[0m         \u001b[39mraise\u001b[39;00m \u001b[39mValueError\u001b[39;00m(\u001b[39mf\u001b[39m\u001b[39m\"\u001b[39m\u001b[39mGrouper for \u001b[39m\u001b[39m'\u001b[39m\u001b[39m{\u001b[39;00mname\u001b[39m}\u001b[39;00m\u001b[39m'\u001b[39m\u001b[39m not 1-dimensional\u001b[39m\u001b[39m\"\u001b[39m)\n\u001b[0;32m    885\u001b[0m     exclusions\u001b[39m.\u001b[39madd(name)\n\u001b[0;32m    886\u001b[0m \u001b[39melif\u001b[39;00m obj\u001b[39m.\u001b[39m_is_level_reference(gpr, axis\u001b[39m=\u001b[39maxis):\n",
      "\u001b[1;31mValueError\u001b[0m: Grouper for 'bleifrei' not 1-dimensional"
     ]
    }
   ],
   "source": [
    "#Pivot table\n",
    "pd.pivot_table(df[['bleifrei', 'diesel', 'bleifrei', 'diesel']],\n",
    "               index=['bleifrei'],\n",
    "               values=['bleifrei', 'diesel', 'bleifrei'],\n",
    "               aggfunc=np.mean)"
   ]
  },
  {
   "cell_type": "code",
   "execution_count": 17,
   "metadata": {},
   "outputs": [
    {
     "data": {
      "text/html": [
       "<div>\n",
       "<style scoped>\n",
       "    .dataframe tbody tr th:only-of-type {\n",
       "        vertical-align: middle;\n",
       "    }\n",
       "\n",
       "    .dataframe tbody tr th {\n",
       "        vertical-align: top;\n",
       "    }\n",
       "\n",
       "    .dataframe thead th {\n",
       "        text-align: right;\n",
       "    }\n",
       "</style>\n",
       "<table border=\"1\" class=\"dataframe\">\n",
       "  <thead>\n",
       "    <tr style=\"text-align: right;\">\n",
       "      <th></th>\n",
       "      <th>diesel</th>\n",
       "      <th>bleifrei</th>\n",
       "      <th>lat</th>\n",
       "      <th>lon</th>\n",
       "    </tr>\n",
       "  </thead>\n",
       "  <tbody>\n",
       "    <tr>\n",
       "      <th>diesel</th>\n",
       "      <td>0.083366</td>\n",
       "      <td>0.060849</td>\n",
       "      <td>-0.017594</td>\n",
       "      <td>0.009495</td>\n",
       "    </tr>\n",
       "    <tr>\n",
       "      <th>bleifrei</th>\n",
       "      <td>0.060849</td>\n",
       "      <td>0.049199</td>\n",
       "      <td>-0.018291</td>\n",
       "      <td>0.001402</td>\n",
       "    </tr>\n",
       "    <tr>\n",
       "      <th>lat</th>\n",
       "      <td>-0.017594</td>\n",
       "      <td>-0.018291</td>\n",
       "      <td>0.203531</td>\n",
       "      <td>0.041361</td>\n",
       "    </tr>\n",
       "    <tr>\n",
       "      <th>lon</th>\n",
       "      <td>0.009495</td>\n",
       "      <td>0.001402</td>\n",
       "      <td>0.041361</td>\n",
       "      <td>0.656167</td>\n",
       "    </tr>\n",
       "  </tbody>\n",
       "</table>\n",
       "</div>"
      ],
      "text/plain": [
       "            diesel  bleifrei       lat       lon\n",
       "diesel    0.083366  0.060849 -0.017594  0.009495\n",
       "bleifrei  0.060849  0.049199 -0.018291  0.001402\n",
       "lat      -0.017594 -0.018291  0.203531  0.041361\n",
       "lon       0.009495  0.001402  0.041361  0.656167"
      ]
     },
     "execution_count": 17,
     "metadata": {},
     "output_type": "execute_result"
    }
   ],
   "source": [
    "#Correlation matrix\n",
    "corr = df.corr()\n",
    "corr\n",
    "\n",
    "#Covariance matrix\n",
    "cov = df.cov()\n",
    "cov"
   ]
  },
  {
   "cell_type": "markdown",
   "metadata": {},
   "source": [
    "### Univariate graphical exploratory data analysis (EDA)"
   ]
  },
  {
   "cell_type": "code",
   "execution_count": 19,
   "metadata": {},
   "outputs": [
    {
     "data": {
      "text/plain": [
       "<AxesSubplot: xlabel='bleifrei'>"
      ]
     },
     "execution_count": 19,
     "metadata": {},
     "output_type": "execute_result"
    },
    {
     "data": {
      "image/png": "[encoded data removed]",
      "text/plain": [
       "<Figure size 800x120 with 1 Axes>"
      ]
     },
     "metadata": {},
     "output_type": "display_data"
    }
   ],
   "source": [
    "# Boxplot\n",
    "plt.figure(figsize=(8,1.2))\n",
    "plt.ticklabel_format(style='plain')\n",
    "sns.boxplot(x=df['bleifrei'], color=\"lightblue\")"
   ]
  },
  {
   "cell_type": "code",
   "execution_count": 20,
   "metadata": {},
   "outputs": [
    {
     "data": {
      "image/png": "[encoded data removed]",
      "text/plain": [
       "<Figure size 700x400 with 1 Axes>"
      ]
     },
     "metadata": {},
     "output_type": "display_data"
    }
   ],
   "source": [
    "# Density plot\n",
    "plt.figure(figsize=(7,4))\n",
    "sns.distplot(df['bleifrei'], \n",
    "             hist=True, \n",
    "             kde=True, \n",
    "             bins=20, \n",
    "             color = 'blue',\n",
    "             hist_kws={'edgecolor':'black'},\n",
    "             kde_kws={'linewidth': 2},\n",
    "            )\n",
    "plt.title('Density plot Price', fontsize=12, pad=10)\n",
    "plt.xlabel('bleifrei', fontsize=12, labelpad=10)\n",
    "plt.ylabel('Density', fontsize=12, labelpad=10)\n",
    "plt.grid(True)\n",
    "plt.show()"
   ]
  },
  {
   "cell_type": "code",
   "execution_count": null,
   "metadata": {},
   "outputs": [
    {
     "name": "stdout",
     "output_type": "stream",
     "text": [
      "          price         km\n",
      "862         0.0  -0.527034\n",
      "1873        0.0  -0.527034\n",
      "595         0.0  -0.527034\n",
      "597         0.0  -0.527034\n",
      "598         0.0  -0.527034\n",
      "...         ...        ...\n",
      "187    479740.0   6.612707\n",
      "2409   629990.0   8.848806\n",
      "1674   650500.0   9.154046\n",
      "933   1400000.0  20.308496\n",
      "1648  1990000.0  29.089183\n",
      "\n",
      "[2874 rows x 2 columns]\n"
     ]
    },
    {
     "data": {
      "image/png": "[encoded data removed]",
      "text/plain": [
       "<Figure size 432x288 with 1 Axes>"
      ]
     },
     "metadata": {
      "needs_background": "light"
     },
     "output_type": "display_data"
    }
   ],
   "source": [
    "#Quantile-Quantile-Plot\n",
    "\n",
    "df_qq = df\n",
    "df_qq['km'] = (df['price']-df['price'].mean()) / df['price'].std()\n",
    "print(df_qq.sort_values('km')[['price', 'km']])\n",
    "    \n",
    "# Plot\n",
    "sm.qqplot(df_qq['km'], line ='45', color = 'lightblue')\n",
    "py.show()"
   ]
  },
  {
   "cell_type": "code",
   "execution_count": null,
   "metadata": {},
   "outputs": [
    {
     "data": {
      "image/png": "[encoded data removed]",
      "text/plain": [
       "<Figure size 504x288 with 1 Axes>"
      ]
     },
     "metadata": {
      "needs_background": "light"
     },
     "output_type": "display_data"
    }
   ],
   "source": [
    "# Barchart\n",
    "df_bar = df['users'].value_counts().nlargest(12).sort_values(ascending=True)\n",
    "\n",
    "# Values for barchart\n",
    "napart = list(df_bar.values)\n",
    "index = list(df_bar.index.values)\n",
    "y_pos = np.arange(len(index))\n",
    "\n",
    "# Figure\n",
    "fig, ax = plt.subplots(figsize=(7,4))\n",
    "ax.barh(y_pos, napart, align='center', color='g', alpha=0.8)\n",
    "ax.set_yticks(y_pos)\n",
    "ax.set_xlabel('Number of cars', fontsize=10)\n",
    "ax.set_ylabel('Users', fontsize=10)\n",
    "\n",
    "# Show graph\n",
    "plt.show()"
   ]
  },
  {
   "cell_type": "markdown",
   "metadata": {},
   "source": [
    "### Multivariate graphical exploratory data analysis (EDA)"
   ]
  },
  {
   "cell_type": "code",
   "execution_count": null,
   "metadata": {},
   "outputs": [
    {
     "ename": "ConversionError",
     "evalue": "Failed to convert value(s) to axis units: array(['4.9', '9.2', '7', ..., nan, '5,3', '5'], dtype=object)",
     "output_type": "error",
     "traceback": [
      "\u001b[0;31m---------------------------------------------------------------------------\u001b[0m",
      "\u001b[0;31mValueError\u001b[0m                                Traceback (most recent call last)",
      "\u001b[0;32m~/opt/anaconda3/lib/python3.7/site-packages/matplotlib/axis.py\u001b[0m in \u001b[0;36mconvert_units\u001b[0;34m(self, x)\u001b[0m\n\u001b[1;32m   1549\u001b[0m         \u001b[0;32mtry\u001b[0m\u001b[0;34m:\u001b[0m\u001b[0;34m\u001b[0m\u001b[0;34m\u001b[0m\u001b[0m\n\u001b[0;32m-> 1550\u001b[0;31m             \u001b[0mret\u001b[0m \u001b[0;34m=\u001b[0m \u001b[0mself\u001b[0m\u001b[0;34m.\u001b[0m\u001b[0mconverter\u001b[0m\u001b[0;34m.\u001b[0m\u001b[0mconvert\u001b[0m\u001b[0;34m(\u001b[0m\u001b[0mx\u001b[0m\u001b[0;34m,\u001b[0m \u001b[0mself\u001b[0m\u001b[0;34m.\u001b[0m\u001b[0munits\u001b[0m\u001b[0;34m,\u001b[0m \u001b[0mself\u001b[0m\u001b[0;34m)\u001b[0m\u001b[0;34m\u001b[0m\u001b[0;34m\u001b[0m\u001b[0m\n\u001b[0m\u001b[1;32m   1551\u001b[0m         \u001b[0;32mexcept\u001b[0m \u001b[0mException\u001b[0m \u001b[0;32mas\u001b[0m \u001b[0me\u001b[0m\u001b[0;34m:\u001b[0m\u001b[0;34m\u001b[0m\u001b[0;34m\u001b[0m\u001b[0m\n",
      "\u001b[0;32m~/opt/anaconda3/lib/python3.7/site-packages/matplotlib/category.py\u001b[0m in \u001b[0;36mconvert\u001b[0;34m(value, unit, axis)\u001b[0m\n\u001b[1;32m     51\u001b[0m             raise ValueError(\n\u001b[0;32m---> 52\u001b[0;31m                 \u001b[0;34m'Missing category information for StrCategoryConverter; '\u001b[0m\u001b[0;34m\u001b[0m\u001b[0;34m\u001b[0m\u001b[0m\n\u001b[0m\u001b[1;32m     53\u001b[0m                 \u001b[0;34m'this might be caused by unintendedly mixing categorical and '\u001b[0m\u001b[0;34m\u001b[0m\u001b[0;34m\u001b[0m\u001b[0m\n",
      "\u001b[0;31mValueError\u001b[0m: Missing category information for StrCategoryConverter; this might be caused by unintendedly mixing categorical and numeric data",
      "\nThe above exception was the direct cause of the following exception:\n",
      "\u001b[0;31mConversionError\u001b[0m                           Traceback (most recent call last)",
      "\u001b[0;32m<ipython-input-132-f71a0118d58d>\u001b[0m in \u001b[0;36m<module>\u001b[0;34m\u001b[0m\n\u001b[1;32m      5\u001b[0m             \u001b[0;34m'o'\u001b[0m\u001b[0;34m,\u001b[0m\u001b[0;34m\u001b[0m\u001b[0;34m\u001b[0m\u001b[0m\n\u001b[1;32m      6\u001b[0m             \u001b[0mmarkersize\u001b[0m\u001b[0;34m=\u001b[0m\u001b[0;36m3.5\u001b[0m\u001b[0;34m,\u001b[0m\u001b[0;34m\u001b[0m\u001b[0;34m\u001b[0m\u001b[0m\n\u001b[0;32m----> 7\u001b[0;31m             color=\"green\")\n\u001b[0m\u001b[1;32m      8\u001b[0m \u001b[0;34m\u001b[0m\u001b[0m\n\u001b[1;32m      9\u001b[0m \u001b[0;31m# Regression line (b = slope, a=intercept)\u001b[0m\u001b[0;34m\u001b[0m\u001b[0;34m\u001b[0m\u001b[0;34m\u001b[0m\u001b[0m\n",
      "\u001b[0;32m~/opt/anaconda3/lib/python3.7/site-packages/matplotlib/pyplot.py\u001b[0m in \u001b[0;36mplot\u001b[0;34m(scalex, scaley, data, *args, **kwargs)\u001b[0m\n\u001b[1;32m   2793\u001b[0m     return gca().plot(\n\u001b[1;32m   2794\u001b[0m         *args, scalex=scalex, scaley=scaley, **({\"data\": data} if data\n\u001b[0;32m-> 2795\u001b[0;31m         is not None else {}), **kwargs)\n\u001b[0m\u001b[1;32m   2796\u001b[0m \u001b[0;34m\u001b[0m\u001b[0m\n\u001b[1;32m   2797\u001b[0m \u001b[0;34m\u001b[0m\u001b[0m\n",
      "\u001b[0;32m~/opt/anaconda3/lib/python3.7/site-packages/matplotlib/axes/_axes.py\u001b[0m in \u001b[0;36mplot\u001b[0;34m(self, scalex, scaley, data, *args, **kwargs)\u001b[0m\n\u001b[1;32m   1666\u001b[0m         \u001b[0mlines\u001b[0m \u001b[0;34m=\u001b[0m \u001b[0;34m[\u001b[0m\u001b[0;34m*\u001b[0m\u001b[0mself\u001b[0m\u001b[0;34m.\u001b[0m\u001b[0m_get_lines\u001b[0m\u001b[0;34m(\u001b[0m\u001b[0;34m*\u001b[0m\u001b[0margs\u001b[0m\u001b[0;34m,\u001b[0m \u001b[0mdata\u001b[0m\u001b[0;34m=\u001b[0m\u001b[0mdata\u001b[0m\u001b[0;34m,\u001b[0m \u001b[0;34m**\u001b[0m\u001b[0mkwargs\u001b[0m\u001b[0;34m)\u001b[0m\u001b[0;34m]\u001b[0m\u001b[0;34m\u001b[0m\u001b[0;34m\u001b[0m\u001b[0m\n\u001b[1;32m   1667\u001b[0m         \u001b[0;32mfor\u001b[0m \u001b[0mline\u001b[0m \u001b[0;32min\u001b[0m \u001b[0mlines\u001b[0m\u001b[0;34m:\u001b[0m\u001b[0;34m\u001b[0m\u001b[0;34m\u001b[0m\u001b[0m\n\u001b[0;32m-> 1668\u001b[0;31m             \u001b[0mself\u001b[0m\u001b[0;34m.\u001b[0m\u001b[0madd_line\u001b[0m\u001b[0;34m(\u001b[0m\u001b[0mline\u001b[0m\u001b[0;34m)\u001b[0m\u001b[0;34m\u001b[0m\u001b[0;34m\u001b[0m\u001b[0m\n\u001b[0m\u001b[1;32m   1669\u001b[0m         \u001b[0mself\u001b[0m\u001b[0;34m.\u001b[0m\u001b[0mautoscale_view\u001b[0m\u001b[0;34m(\u001b[0m\u001b[0mscalex\u001b[0m\u001b[0;34m=\u001b[0m\u001b[0mscalex\u001b[0m\u001b[0;34m,\u001b[0m \u001b[0mscaley\u001b[0m\u001b[0;34m=\u001b[0m\u001b[0mscaley\u001b[0m\u001b[0;34m)\u001b[0m\u001b[0;34m\u001b[0m\u001b[0;34m\u001b[0m\u001b[0m\n\u001b[1;32m   1670\u001b[0m         \u001b[0;32mreturn\u001b[0m \u001b[0mlines\u001b[0m\u001b[0;34m\u001b[0m\u001b[0;34m\u001b[0m\u001b[0m\n",
      "\u001b[0;32m~/opt/anaconda3/lib/python3.7/site-packages/matplotlib/axes/_base.py\u001b[0m in \u001b[0;36madd_line\u001b[0;34m(self, line)\u001b[0m\n\u001b[1;32m   1900\u001b[0m             \u001b[0mline\u001b[0m\u001b[0;34m.\u001b[0m\u001b[0mset_clip_path\u001b[0m\u001b[0;34m(\u001b[0m\u001b[0mself\u001b[0m\u001b[0;34m.\u001b[0m\u001b[0mpatch\u001b[0m\u001b[0;34m)\u001b[0m\u001b[0;34m\u001b[0m\u001b[0;34m\u001b[0m\u001b[0m\n\u001b[1;32m   1901\u001b[0m \u001b[0;34m\u001b[0m\u001b[0m\n\u001b[0;32m-> 1902\u001b[0;31m         \u001b[0mself\u001b[0m\u001b[0;34m.\u001b[0m\u001b[0m_update_line_limits\u001b[0m\u001b[0;34m(\u001b[0m\u001b[0mline\u001b[0m\u001b[0;34m)\u001b[0m\u001b[0;34m\u001b[0m\u001b[0;34m\u001b[0m\u001b[0m\n\u001b[0m\u001b[1;32m   1903\u001b[0m         \u001b[0;32mif\u001b[0m \u001b[0;32mnot\u001b[0m \u001b[0mline\u001b[0m\u001b[0;34m.\u001b[0m\u001b[0mget_label\u001b[0m\u001b[0;34m(\u001b[0m\u001b[0;34m)\u001b[0m\u001b[0;34m:\u001b[0m\u001b[0;34m\u001b[0m\u001b[0;34m\u001b[0m\u001b[0m\n\u001b[1;32m   1904\u001b[0m             \u001b[0mline\u001b[0m\u001b[0;34m.\u001b[0m\u001b[0mset_label\u001b[0m\u001b[0;34m(\u001b[0m\u001b[0;34m'_line%d'\u001b[0m \u001b[0;34m%\u001b[0m \u001b[0mlen\u001b[0m\u001b[0;34m(\u001b[0m\u001b[0mself\u001b[0m\u001b[0;34m.\u001b[0m\u001b[0mlines\u001b[0m\u001b[0;34m)\u001b[0m\u001b[0;34m)\u001b[0m\u001b[0;34m\u001b[0m\u001b[0;34m\u001b[0m\u001b[0m\n",
      "\u001b[0;32m~/opt/anaconda3/lib/python3.7/site-packages/matplotlib/axes/_base.py\u001b[0m in \u001b[0;36m_update_line_limits\u001b[0;34m(self, line)\u001b[0m\n\u001b[1;32m   1922\u001b[0m         \u001b[0mFigures\u001b[0m \u001b[0mout\u001b[0m \u001b[0mthe\u001b[0m \u001b[0mdata\u001b[0m \u001b[0mlimit\u001b[0m \u001b[0mof\u001b[0m \u001b[0mthe\u001b[0m \u001b[0mgiven\u001b[0m \u001b[0mline\u001b[0m\u001b[0;34m,\u001b[0m \u001b[0mupdating\u001b[0m \u001b[0mself\u001b[0m\u001b[0;34m.\u001b[0m\u001b[0mdataLim\u001b[0m\u001b[0;34m.\u001b[0m\u001b[0;34m\u001b[0m\u001b[0;34m\u001b[0m\u001b[0m\n\u001b[1;32m   1923\u001b[0m         \"\"\"\n\u001b[0;32m-> 1924\u001b[0;31m         \u001b[0mpath\u001b[0m \u001b[0;34m=\u001b[0m \u001b[0mline\u001b[0m\u001b[0;34m.\u001b[0m\u001b[0mget_path\u001b[0m\u001b[0;34m(\u001b[0m\u001b[0;34m)\u001b[0m\u001b[0;34m\u001b[0m\u001b[0;34m\u001b[0m\u001b[0m\n\u001b[0m\u001b[1;32m   1925\u001b[0m         \u001b[0;32mif\u001b[0m \u001b[0mpath\u001b[0m\u001b[0;34m.\u001b[0m\u001b[0mvertices\u001b[0m\u001b[0;34m.\u001b[0m\u001b[0msize\u001b[0m \u001b[0;34m==\u001b[0m \u001b[0;36m0\u001b[0m\u001b[0;34m:\u001b[0m\u001b[0;34m\u001b[0m\u001b[0;34m\u001b[0m\u001b[0m\n\u001b[1;32m   1926\u001b[0m             \u001b[0;32mreturn\u001b[0m\u001b[0;34m\u001b[0m\u001b[0;34m\u001b[0m\u001b[0m\n",
      "\u001b[0;32m~/opt/anaconda3/lib/python3.7/site-packages/matplotlib/lines.py\u001b[0m in \u001b[0;36mget_path\u001b[0;34m(self)\u001b[0m\n\u001b[1;32m   1025\u001b[0m         \"\"\"\n\u001b[1;32m   1026\u001b[0m         \u001b[0;32mif\u001b[0m \u001b[0mself\u001b[0m\u001b[0;34m.\u001b[0m\u001b[0m_invalidy\u001b[0m \u001b[0;32mor\u001b[0m \u001b[0mself\u001b[0m\u001b[0;34m.\u001b[0m\u001b[0m_invalidx\u001b[0m\u001b[0;34m:\u001b[0m\u001b[0;34m\u001b[0m\u001b[0;34m\u001b[0m\u001b[0m\n\u001b[0;32m-> 1027\u001b[0;31m             \u001b[0mself\u001b[0m\u001b[0;34m.\u001b[0m\u001b[0mrecache\u001b[0m\u001b[0;34m(\u001b[0m\u001b[0;34m)\u001b[0m\u001b[0;34m\u001b[0m\u001b[0;34m\u001b[0m\u001b[0m\n\u001b[0m\u001b[1;32m   1028\u001b[0m         \u001b[0;32mreturn\u001b[0m \u001b[0mself\u001b[0m\u001b[0;34m.\u001b[0m\u001b[0m_path\u001b[0m\u001b[0;34m\u001b[0m\u001b[0;34m\u001b[0m\u001b[0m\n\u001b[1;32m   1029\u001b[0m \u001b[0;34m\u001b[0m\u001b[0m\n",
      "\u001b[0;32m~/opt/anaconda3/lib/python3.7/site-packages/matplotlib/lines.py\u001b[0m in \u001b[0;36mrecache\u001b[0;34m(self, always)\u001b[0m\n\u001b[1;32m    672\u001b[0m             \u001b[0mx\u001b[0m \u001b[0;34m=\u001b[0m \u001b[0mself\u001b[0m\u001b[0;34m.\u001b[0m\u001b[0m_x\u001b[0m\u001b[0;34m\u001b[0m\u001b[0;34m\u001b[0m\u001b[0m\n\u001b[1;32m    673\u001b[0m         \u001b[0;32mif\u001b[0m \u001b[0malways\u001b[0m \u001b[0;32mor\u001b[0m \u001b[0mself\u001b[0m\u001b[0;34m.\u001b[0m\u001b[0m_invalidy\u001b[0m\u001b[0;34m:\u001b[0m\u001b[0;34m\u001b[0m\u001b[0;34m\u001b[0m\u001b[0m\n\u001b[0;32m--> 674\u001b[0;31m             \u001b[0myconv\u001b[0m \u001b[0;34m=\u001b[0m \u001b[0mself\u001b[0m\u001b[0;34m.\u001b[0m\u001b[0mconvert_yunits\u001b[0m\u001b[0;34m(\u001b[0m\u001b[0mself\u001b[0m\u001b[0;34m.\u001b[0m\u001b[0m_yorig\u001b[0m\u001b[0;34m)\u001b[0m\u001b[0;34m\u001b[0m\u001b[0;34m\u001b[0m\u001b[0m\n\u001b[0m\u001b[1;32m    675\u001b[0m             \u001b[0my\u001b[0m \u001b[0;34m=\u001b[0m \u001b[0m_to_unmasked_float_array\u001b[0m\u001b[0;34m(\u001b[0m\u001b[0myconv\u001b[0m\u001b[0;34m)\u001b[0m\u001b[0;34m.\u001b[0m\u001b[0mravel\u001b[0m\u001b[0;34m(\u001b[0m\u001b[0;34m)\u001b[0m\u001b[0;34m\u001b[0m\u001b[0;34m\u001b[0m\u001b[0m\n\u001b[1;32m    676\u001b[0m         \u001b[0;32melse\u001b[0m\u001b[0;34m:\u001b[0m\u001b[0;34m\u001b[0m\u001b[0;34m\u001b[0m\u001b[0m\n",
      "\u001b[0;32m~/opt/anaconda3/lib/python3.7/site-packages/matplotlib/artist.py\u001b[0m in \u001b[0;36mconvert_yunits\u001b[0;34m(self, y)\u001b[0m\n\u001b[1;32m    190\u001b[0m         \u001b[0;32mif\u001b[0m \u001b[0max\u001b[0m \u001b[0;32mis\u001b[0m \u001b[0;32mNone\u001b[0m \u001b[0;32mor\u001b[0m \u001b[0max\u001b[0m\u001b[0;34m.\u001b[0m\u001b[0myaxis\u001b[0m \u001b[0;32mis\u001b[0m \u001b[0;32mNone\u001b[0m\u001b[0;34m:\u001b[0m\u001b[0;34m\u001b[0m\u001b[0;34m\u001b[0m\u001b[0m\n\u001b[1;32m    191\u001b[0m             \u001b[0;32mreturn\u001b[0m \u001b[0my\u001b[0m\u001b[0;34m\u001b[0m\u001b[0;34m\u001b[0m\u001b[0m\n\u001b[0;32m--> 192\u001b[0;31m         \u001b[0;32mreturn\u001b[0m \u001b[0max\u001b[0m\u001b[0;34m.\u001b[0m\u001b[0myaxis\u001b[0m\u001b[0;34m.\u001b[0m\u001b[0mconvert_units\u001b[0m\u001b[0;34m(\u001b[0m\u001b[0my\u001b[0m\u001b[0;34m)\u001b[0m\u001b[0;34m\u001b[0m\u001b[0;34m\u001b[0m\u001b[0m\n\u001b[0m\u001b[1;32m    193\u001b[0m \u001b[0;34m\u001b[0m\u001b[0m\n\u001b[1;32m    194\u001b[0m     \u001b[0;34m@\u001b[0m\u001b[0mproperty\u001b[0m\u001b[0;34m\u001b[0m\u001b[0;34m\u001b[0m\u001b[0m\n",
      "\u001b[0;32m~/opt/anaconda3/lib/python3.7/site-packages/matplotlib/axis.py\u001b[0m in \u001b[0;36mconvert_units\u001b[0;34m(self, x)\u001b[0m\n\u001b[1;32m   1551\u001b[0m         \u001b[0;32mexcept\u001b[0m \u001b[0mException\u001b[0m \u001b[0;32mas\u001b[0m \u001b[0me\u001b[0m\u001b[0;34m:\u001b[0m\u001b[0;34m\u001b[0m\u001b[0;34m\u001b[0m\u001b[0m\n\u001b[1;32m   1552\u001b[0m             raise munits.ConversionError('Failed to convert value(s) to axis '\n\u001b[0;32m-> 1553\u001b[0;31m                                          f'units: {x!r}') from e\n\u001b[0m\u001b[1;32m   1554\u001b[0m         \u001b[0;32mreturn\u001b[0m \u001b[0mret\u001b[0m\u001b[0;34m\u001b[0m\u001b[0;34m\u001b[0m\u001b[0m\n\u001b[1;32m   1555\u001b[0m \u001b[0;34m\u001b[0m\u001b[0m\n",
      "\u001b[0;31mConversionError\u001b[0m: Failed to convert value(s) to axis units: array(['4.9', '9.2', '7', ..., nan, '5,3', '5'], dtype=object)"
     ]
    },
    {
     "data": {
      "image/png": "[encoded data removed]",
      "text/plain": [
       "<Figure size 504x288 with 1 Axes>"
      ]
     },
     "metadata": {
      "needs_background": "light"
     },
     "output_type": "display_data"
    }
   ],
   "source": [
    "# Scatterplot with linear regression\n",
    "plt.figure(figsize=(7,4))\n",
    "plt.plot(df[['price',\n",
    "             'consumption']], \n",
    "            'o', \n",
    "            markersize=3.5,\n",
    "            color=\"green\")\n",
    "\n",
    "# Regression line (b = slope, a=intercept)\n",
    "b, a = np.polyfit(df['price'], df['consumption'], 1)\n",
    "print(b)\n",
    "print(a)\n",
    "\n",
    "# Plot regression line\n",
    "plt.plot(df['price'], \n",
    "         b*df['price'] + a, \n",
    "         linewidth=1,\n",
    "         linestyle='dashed',\n",
    "         color='darkred')\n",
    "\n",
    "# Add title and axes labels\n",
    "plt.title('Scatterplot with regression line', fontsize=12)\n",
    "plt.ylabel('price', fontsize=12)\n",
    "plt.xlabel('consumption', fontsize=12)\n",
    "\n",
    "# Set fontsize of tick labels\n",
    "plt.xticks(fontsize = 10)\n",
    "plt.yticks(fontsize = 10)\n",
    "\n",
    "plt.show()"
   ]
  },
  {
   "cell_type": "markdown",
   "metadata": {},
   "source": []
  },
  {
   "attachments": {},
   "cell_type": "markdown",
   "metadata": {},
   "source": [
    "## 5) Regression"
   ]
  },
  {
   "attachments": {},
   "cell_type": "markdown",
   "metadata": {},
   "source": [
    "### Simple linear regression (only one explanatory variable in the model) KM ODER Price"
   ]
  },
  {
   "cell_type": "code",
   "execution_count": 21,
   "metadata": {},
   "outputs": [
    {
     "name": "stdout",
     "output_type": "stream",
     "text": [
      "X_train:\n",
      "0       1.14\n",
      "662     1.79\n",
      "1801    1.53\n",
      "2391    1.25\n",
      "1939    1.45\n",
      "Name: bleifrei, dtype: float64 \n",
      "\n",
      "y_train:\n",
      "0       1.12\n",
      "662     2.09\n",
      "1801    1.58\n",
      "2391    1.36\n",
      "1939    1.53\n",
      "Name: diesel, dtype: float64\n"
     ]
    }
   ],
   "source": [
    "# Create train and test samples\n",
    "X_train, X_test, y_train, y_test = train_test_split(df['bleifrei'], \n",
    "                                                    df['diesel'], \n",
    "                                                    test_size=0.5, \n",
    "                                                    random_state=30)\n",
    "# Show X_train\n",
    "print('X_train:')\n",
    "print(X_train.head(), '\\n')\n",
    "\n",
    "# Show y_train\n",
    "print('y_train:')\n",
    "print(y_train.head())"
   ]
  },
  {
   "cell_type": "code",
   "execution_count": 22,
   "metadata": {},
   "outputs": [
    {
     "name": "stdout",
     "output_type": "stream",
     "text": [
      "Linear regression result:\n",
      "Intercept with y-axis (alpha):            -0.25\n",
      "Slope of regression line (beta):          1.234\n",
      "p-value:                                  0.0000\n",
      "R-squared (coefficient of determination): 0.9052\n"
     ]
    }
   ],
   "source": [
    "# Fit the regression model\n",
    "slope, intercept, r, p, std_err = stats.linregress(X_train, y_train)\n",
    "\n",
    "# Print results of the regression model\n",
    "print('Linear regression result:')\n",
    "print(f'Intercept with y-axis (alpha):            {intercept:.2f}')\n",
    "print(f'Slope of regression line (beta):          {slope:.3f}')\n",
    "print(f'p-value:                                  {p:.4f}')\n",
    "print(f'R-squared (coefficient of determination): {r**2:.4f}')"
   ]
  },
  {
   "attachments": {},
   "cell_type": "markdown",
   "metadata": {},
   "source": [
    "### Plot regression line"
   ]
  },
  {
   "cell_type": "code",
   "execution_count": 24,
   "metadata": {},
   "outputs": [
    {
     "data": {
      "image/png": "[encoded data removed]",
      "text/plain": [
       "<Figure size 600x400 with 1 Axes>"
      ]
     },
     "metadata": {},
     "output_type": "display_data"
    }
   ],
   "source": [
    "# Function to calculate model predictions\n",
    "def myfunc(x):\n",
    "    return slope * x + intercept\n",
    "\n",
    "\n",
    "# Apply myfunc() to x, i.e. make predictions\n",
    "mymodel = pd.Series(map(myfunc, X_train))\n",
    "\n",
    "# Scatterplot with regression line\n",
    "plt.figure(figsize=(6, 4))\n",
    "plt.scatter(X_train, y_train, s=5, color='blue')\n",
    "plt.plot(X_train, mymodel, color='darkred', linestyle='dashed')\n",
    "plt.title('Simple Linear Regression')\n",
    "plt.xlabel('Bleifrei')\n",
    "plt.ylabel('Diesel')\n",
    "\n",
    "plt.show()\n"
   ]
  },
  {
   "attachments": {},
   "cell_type": "markdown",
   "metadata": {},
   "source": [
    "### Check model residuals (residuals = predicted values minus observed val"
   ]
  },
  {
   "cell_type": "code",
   "execution_count": 25,
   "metadata": {},
   "outputs": [
    {
     "name": "stdout",
     "output_type": "stream",
     "text": [
      "1st Predicted price in dataset: 1.15\n",
      "1st Observed price in dataset: 1.12\n",
      "1st Residual price in dataset: 0.03\n"
     ]
    }
   ],
   "source": [
    "# Calculate residuals (here: predicted prices minus observed prices)\n",
    "residuals = mymodel - y_train\n",
    "\n",
    "# Check the first residual value in our data set\n",
    "print(f'1st Predicted price in dataset: {mymodel[0]:.2f}')\n",
    "print(f'1st Observed price in dataset: {y_train[0]:.2f}')\n",
    "print(f'1st Residual price in dataset: {residuals[0]:.2f}')"
   ]
  },
  {
   "attachments": {},
   "cell_type": "markdown",
   "metadata": {},
   "source": [
    "## 6 & 7) Measures of fit and interpretation"
   ]
  },
  {
   "attachments": {},
   "cell_type": "markdown",
   "metadata": {},
   "source": [
    "For Interpretation of our simple linear regression we use the R-squared value, which should be near 1 if the model should have a high goodness of fit, and the RMSE-value, which indicates how much the model predictions differ onn average from the observed values.\n",
    "Additionally we plot the Histogram of the residuals, with which we can visualize the differences between the model values and the actual values. "
   ]
  },
  {
   "cell_type": "code",
   "execution_count": null,
   "metadata": {},
   "outputs": [
    {
     "name": "stdout",
     "output_type": "stream",
     "text": [
      "R-squared (coefficient of determination): 0.0472\n"
     ]
    }
   ],
   "source": [
    "#R^2\n",
    "print(f'R-squared (coefficient of determination): {r**2:.4f}')"
   ]
  },
  {
   "cell_type": "code",
   "execution_count": null,
   "metadata": {},
   "outputs": [
    {
     "name": "stdout",
     "output_type": "stream",
     "text": [
      "Root Mean Square Error:\n",
      "\n",
      "70013.30162397183\n"
     ]
    }
   ],
   "source": [
    "#RMSE\n",
    "MSE = np.square(np.subtract(y_train, mymodel)).mean()   \n",
    "   \n",
    "rsme = math.sqrt(MSE)  \n",
    "print(\"Root Mean Square Error:\\n\")  \n",
    "print(rsme)  "
   ]
  },
  {
   "cell_type": "code",
   "execution_count": null,
   "metadata": {},
   "outputs": [
    {
     "data": {
      "image/png": "[encoded data removed]",
      "text/plain": [
       "<Figure size 1800x288 with 1 Axes>"
      ]
     },
     "metadata": {
      "needs_background": "light"
     },
     "output_type": "display_data"
    }
   ],
   "source": [
    "#Histogram of residuals\n",
    "fig = plt.figure(figsize=(25, 4))\n",
    "n, bins, patches = plt.hist(x=residuals, \n",
    "                            bins=1000, \n",
    "                            color='black',\n",
    "                            alpha=0.6\n",
    "                   )\n",
    "\n",
    "# Set title and labels\n",
    "plt.xlabel('residuals', fontsize=10, labelpad=10)\n",
    "plt.ylabel('frequency', fontsize=10, labelpad=10)\n",
    "plt.title('Histogram of model residuals', fontsize=12, pad=10)\n",
    "\n",
    "# Add text annotation\n",
    "plt.text(-50, 50, s=\"--\", \n",
    "         fontsize=11, \n",
    "         color=\"black\")\n",
    "\n",
    "# Show plot\n",
    "plt.show()\n"
   ]
  },
  {
   "attachments": {},
   "cell_type": "markdown",
   "metadata": {},
   "source": [
    "#Interpretation:\n",
    "R-squared: the value is in the bottom half between 0 and 1, which means the model doesn't have a high goodness-of-fit.\n",
    "RMSE: The value is very high with 70'000 euro difference in average between the predicted value and the observed value.\n",
    "Histogram of model residuals: As visualized in the histogram of model residual, it is left-skewed. That is because we have much higher price differences, the higher we go price-wise."
   ]
  },
  {
   "attachments": {},
   "cell_type": "markdown",
   "metadata": {},
   "source": [
    "### ANOVA Analysis"
   ]
  },
  {
   "attachments": {},
   "cell_type": "markdown",
   "metadata": {},
   "source": [
    "H0: the means of the car prices per brand are the same;  \n",
    "H1: the means of the car prices per brand are not the same   \n",
    "--> compared will be the three brands: Ferrari, Lamborghini and McLaren"
   ]
  },
  {
   "cell_type": "code",
   "execution_count": null,
   "metadata": {},
   "outputs": [
    {
     "data": {
      "text/html": [
       "<div>\n",
       "<style scoped>\n",
       "    .dataframe tbody tr th:only-of-type {\n",
       "        vertical-align: middle;\n",
       "    }\n",
       "\n",
       "    .dataframe tbody tr th {\n",
       "        vertical-align: top;\n",
       "    }\n",
       "\n",
       "    .dataframe thead th {\n",
       "        text-align: right;\n",
       "    }\n",
       "</style>\n",
       "<table border=\"1\" class=\"dataframe\">\n",
       "  <thead>\n",
       "    <tr style=\"text-align: right;\">\n",
       "      <th></th>\n",
       "      <th>brand</th>\n",
       "      <th>price (euro)</th>\n",
       "    </tr>\n",
       "  </thead>\n",
       "  <tbody>\n",
       "    <tr>\n",
       "      <td>0</td>\n",
       "      <td>Volkswagen</td>\n",
       "      <td>25980.0</td>\n",
       "    </tr>\n",
       "    <tr>\n",
       "      <td>1</td>\n",
       "      <td>Porsche</td>\n",
       "      <td>89800.0</td>\n",
       "    </tr>\n",
       "    <tr>\n",
       "      <td>2</td>\n",
       "      <td>Mercedes-Benz</td>\n",
       "      <td>36999.0</td>\n",
       "    </tr>\n",
       "    <tr>\n",
       "      <td>3</td>\n",
       "      <td>Mercedes-Benz</td>\n",
       "      <td>44480.0</td>\n",
       "    </tr>\n",
       "    <tr>\n",
       "      <td>4</td>\n",
       "      <td>Opel</td>\n",
       "      <td>16880.0</td>\n",
       "    </tr>\n",
       "  </tbody>\n",
       "</table>\n",
       "</div>"
      ],
      "text/plain": [
       "           brand  price (euro)\n",
       "0     Volkswagen       25980.0\n",
       "1        Porsche       89800.0\n",
       "2  Mercedes-Benz       36999.0\n",
       "3  Mercedes-Benz       44480.0\n",
       "4           Opel       16880.0"
      ]
     },
     "execution_count": 15,
     "metadata": {},
     "output_type": "execute_result"
    }
   ],
   "source": [
    "#defining dataframe and remove outliers\n",
    "df_anova = df[['brand', 'price (euro)']]\n",
    "threshold = 400000\n",
    "df_anova = df_anova[df_anova['price (euro)'] < threshold]\n",
    "df_anova.head()"
   ]
  },
  {
   "cell_type": "code",
   "execution_count": null,
   "metadata": {},
   "outputs": [
    {
     "name": "stdout",
     "output_type": "stream",
     "text": [
      "brand          Abarth  Aiways          Alfa    Alpina   Alpine     Aston  \\\n",
      "price (euro)  19642.0     0.0  22933.378378  164900.0  65330.0  187825.6   \n",
      "\n",
      "brand                 Audi   Austin  Austin-Healey  Autobianchi  ...  \\\n",
      "price (euro)  35735.041009  52000.0         4990.0        900.0  ...   \n",
      "\n",
      "brand                Skoda       Sonstige     SsangYong        Subaru  Suzuki  \\\n",
      "price (euro)  24217.267857  116032.857143  29456.666667  14237.857143  9867.5   \n",
      "\n",
      "brand                Tesla       Toyota  Triumph   Volkswagen        Volvo  \n",
      "price (euro)  18435.714286  8108.743243  33500.0  18779.59322  8772.339623  \n",
      "\n",
      "[1 rows x 77 columns]\n"
     ]
    }
   ],
   "source": [
    "#pivot-table\n",
    "table = pd.pivot_table(df_anova, \n",
    "                       values='price (euro)',\n",
    "                       columns=['brand'], \n",
    "                       aggfunc=np.mean)\n",
    "print(table)"
   ]
  },
  {
   "cell_type": "code",
   "execution_count": null,
   "metadata": {},
   "outputs": [
    {
     "data": {
      "image/png": "[encoded data removed]",
      "text/plain": [
       "<Figure size 1800x1152 with 1 Axes>"
      ]
     },
     "metadata": {
      "needs_background": "light"
     },
     "output_type": "display_data"
    }
   ],
   "source": [
    "#Boxplots\n",
    "plt.figure(figsize=(25, 16))\n",
    "ax = sns.boxplot(x=\"price (euro)\",\n",
    "                 y=\"brand\",\n",
    "                 data=df,\n",
    "                 orient='h')\n",
    "plt.grid()\n",
    "plt.show()"
   ]
  },
  {
   "cell_type": "code",
   "execution_count": null,
   "metadata": {},
   "outputs": [
    {
     "name": "stdout",
     "output_type": "stream",
     "text": [
      "F-value: 41.278 p-value 0.0001\n"
     ]
    }
   ],
   "source": [
    "# Create subsets (groups)\n",
    "rMcLaren = df_anova.loc[df_anova['brand'] == 'McLaren']['price (euro)']\n",
    "rFerrari = df_anova.loc[df_anova['brand'] == 'Ferrari']['price (euro)']\n",
    "rLamborghini = df_anova.loc[df_anova['brand'] == 'Lamborghini']['price (euro)']\n",
    "\n",
    "# Create ANOVA\n",
    "fvalue, pvalue = stats.f_oneway(rFerrari, rLamborghini)\n",
    "\n",
    "# Print results\n",
    "print('F-value:', fvalue.round(3), 'p-value', pvalue.round(4))"
   ]
  },
  {
   "attachments": {},
   "cell_type": "markdown",
   "metadata": {},
   "source": [
    "#Interpretation   \n",
    "Because the p-value is lower than 0.05, the null hypothesis can be rejected, i.e. there is evidence that the price per m2 differ between apartments with 2.5, 3.5 and 4.5 rooms. "
   ]
  }
 ],
 "metadata": {
  "kernelspec": {
   "display_name": "Python 3",
   "language": "python",
   "name": "python3"
  },
  "language_info": {
   "codemirror_mode": {
    "name": "ipython",
    "version": 3
   },
   "file_extension": ".py",
   "mimetype": "text/x-python",
   "name": "python",
   "nbconvert_exporter": "python",
   "pygments_lexer": "ipython3",
   "version": "3.9.5"
  },
  "orig_nbformat": 4,
  "vscode": {
   "interpreter": {
    "hash": "afce69d464cde1a213db31363e574efb03353a5cc05e277229438b01d3a1161e"
   }
  }
 },
 "nbformat": 4,
 "nbformat_minor": 2
}
